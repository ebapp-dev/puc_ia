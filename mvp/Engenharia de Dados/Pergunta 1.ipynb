{
 "cells": [
  {
   "cell_type": "markdown",
   "metadata": {
    "application/vnd.databricks.v1+cell": {
     "cellMetadata": {
      "byteLimit": 2048000,
      "rowLimit": 10000
     },
     "inputWidgets": {},
     "nuid": "edc31505-c459-4e95-9145-1b931d2b4dba",
     "showTitle": false,
     "title": ""
    }
   },
   "source": [
    "# Pergunta 1\n",
    "##\n",
    "##Qual a quantidade de crianças Especiais que frequentaram em média por mês, para os eventos de domingo pela manhã, por organização, no primeiro semestre?\n",
    "\n",
    "- Crianças especiais (dim_children)\n",
    "- Domingo manhã (dim_events, tipo=1)\n",
    "- Mês (dim_events)\n",
    "- Organização (dim_children, dim_events)"
   ]
  },
  {
   "cell_type": "code",
   "execution_count": 0,
   "metadata": {
    "application/vnd.databricks.v1+cell": {
     "cellMetadata": {
      "byteLimit": 2048000,
      "rowLimit": 10000
     },
     "inputWidgets": {},
     "nuid": "d2a6f885-2df7-4b49-adac-0f278be1e48c",
     "showTitle": false,
     "title": ""
    }
   },
   "outputs": [
    {
     "output_type": "stream",
     "name": "stdout",
     "output_type": "stream",
     "text": [
      "Out[3]: True"
     ]
    }
   ],
   "source": [
    "#Apaga todas as tabelas do level3 diretório\n",
    "dbutils.fs.rm('dbfs:/user/hive/warehouse/level3.db/tb_fato1', True)"
   ]
  },
  {
   "cell_type": "code",
   "execution_count": 0,
   "metadata": {
    "application/vnd.databricks.v1+cell": {
     "cellMetadata": {
      "byteLimit": 2048000,
      "implicitDf": true,
      "rowLimit": 10000
     },
     "inputWidgets": {},
     "nuid": "637b84d2-c99b-43bf-8ed0-d1402bea0aab",
     "showTitle": false,
     "title": ""
    }
   },
   "outputs": [
    {
     "output_type": "display_data",
     "data": {
      "text/html": [
       "<style scoped>\n",
       "  .table-result-container {\n",
       "    max-height: 300px;\n",
       "    overflow: auto;\n",
       "  }\n",
       "  table, th, td {\n",
       "    border: 1px solid black;\n",
       "    border-collapse: collapse;\n",
       "  }\n",
       "  th, td {\n",
       "    padding: 5px;\n",
       "  }\n",
       "  th {\n",
       "    text-align: left;\n",
       "  }\n",
       "</style><div class='table-result-container'><table class='table-result'><thead style='background-color: white'><tr><th>org</th><th>mes</th><th>ano</th><th>tipo</th><th>media</th></tr></thead><tbody><tr><td>ibarp</td><td>6</td><td>2024</td><td>1</td><td>1.00</td></tr><tr><td>ibatj</td><td>1</td><td>2024</td><td>1</td><td>1.67</td></tr><tr><td>ibatj</td><td>2</td><td>2024</td><td>1</td><td>2.75</td></tr><tr><td>ibatj</td><td>3</td><td>2024</td><td>1</td><td>2.33</td></tr><tr><td>ibatj</td><td>4</td><td>2024</td><td>1</td><td>3.67</td></tr><tr><td>ibatj</td><td>5</td><td>2024</td><td>1</td><td>4.00</td></tr><tr><td>ibatj</td><td>6</td><td>2024</td><td>1</td><td>3.00</td></tr><tr><td>ibazs</td><td>1</td><td>2024</td><td>1</td><td>3.75</td></tr><tr><td>ibazs</td><td>2</td><td>2024</td><td>1</td><td>3.67</td></tr><tr><td>ibazs</td><td>3</td><td>2024</td><td>1</td><td>3.25</td></tr><tr><td>ibazs</td><td>4</td><td>2024</td><td>1</td><td>4.50</td></tr><tr><td>ibazs</td><td>5</td><td>2024</td><td>1</td><td>3.00</td></tr><tr><td>ibazs</td><td>6</td><td>2024</td><td>1</td><td>5.25</td></tr></tbody></table></div>"
      ]
     },
     "metadata": {
      "application/vnd.databricks.v1+output": {
       "addedWidgets": {},
       "aggData": [],
       "aggError": "",
       "aggOverflow": false,
       "aggSchema": [],
       "aggSeriesLimitReached": false,
       "aggType": "",
       "arguments": {},
       "columnCustomDisplayInfos": {},
       "data": [
        [
         "ibarp",
         6,
         2024,
         1,
         "1.00"
        ],
        [
         "ibatj",
         1,
         2024,
         1,
         "1.67"
        ],
        [
         "ibatj",
         2,
         2024,
         1,
         "2.75"
        ],
        [
         "ibatj",
         3,
         2024,
         1,
         "2.33"
        ],
        [
         "ibatj",
         4,
         2024,
         1,
         "3.67"
        ],
        [
         "ibatj",
         5,
         2024,
         1,
         "4.00"
        ],
        [
         "ibatj",
         6,
         2024,
         1,
         "3.00"
        ],
        [
         "ibazs",
         1,
         2024,
         1,
         "3.75"
        ],
        [
         "ibazs",
         2,
         2024,
         1,
         "3.67"
        ],
        [
         "ibazs",
         3,
         2024,
         1,
         "3.25"
        ],
        [
         "ibazs",
         4,
         2024,
         1,
         "4.50"
        ],
        [
         "ibazs",
         5,
         2024,
         1,
         "3.00"
        ],
        [
         "ibazs",
         6,
         2024,
         1,
         "5.25"
        ]
       ],
       "datasetInfos": [],
       "dbfsResultPath": null,
       "isJsonSchema": true,
       "metadata": {},
       "overflow": false,
       "plotOptions": {
        "customPlotOptions": {},
        "displayType": "table",
        "pivotAggregation": null,
        "pivotColumns": null,
        "xColumns": null,
        "yColumns": null
       },
       "removedWidgets": [],
       "schema": [
        {
         "metadata": "{}",
         "name": "org",
         "type": "\"string\""
        },
        {
         "metadata": "{}",
         "name": "mes",
         "type": "\"integer\""
        },
        {
         "metadata": "{}",
         "name": "ano",
         "type": "\"integer\""
        },
        {
         "metadata": "{}",
         "name": "tipo",
         "type": "\"integer\""
        },
        {
         "metadata": "{}",
         "name": "media",
         "type": "\"decimal(5,2)\""
        }
       ],
       "type": "table"
      }
     },
     "output_type": "display_data"
    }
   ],
   "source": [
    "%sql\n",
    "\n",
    "--Gera a tabela fato1\n",
    "USE level3;\n",
    "DROP TABLE IF EXISTS tb_fato1;\n",
    "CREATE TABLE tb_fato1 AS\n",
    "SELECT org, mes, ano, tipo, CAST(avg(quant) AS DECIMAL(5,2)) as media\n",
    "FROM (SELECT A.org, extract(DAY FROM B.evento) as dia, extract(MONTH FROM B.evento) as mes, extract(YEAR FROM B.evento) as ano, B.eventoTipo as tipo, count(*) as quant \n",
    "FROM dim_events B\n",
    "INNER JOIN dim_children A ON (A.org = B.org AND A.mat = B.mat)\n",
    "WHERE A.especial\n",
    "GROUP BY A.org, dia, mes, ano, eventoTipo\n",
    "ORDER BY org, tipo, ano, mes, dia)\n",
    "GROUP BY org, ano, mes, tipo\n",
    "ORDER BY org, ano, mes, tipo;\n",
    "\n",
    "-- Select com a resposta a pergunta\n",
    "SELECT * FROM tb_fato1 WHERE ano = 2024 AND mes < 7 AND tipo = 1\n",
    "order by org, ano, mes;"
   ]
  },
  {
   "cell_type": "markdown",
   "metadata": {
    "application/vnd.databricks.v1+cell": {
     "cellMetadata": {
      "byteLimit": 2048000,
      "rowLimit": 10000
     },
     "inputWidgets": {},
     "nuid": "60f77737-4c7e-4e6d-b355-f7bdec0ff126",
     "showTitle": false,
     "title": ""
    }
   },
   "source": [
    "###Conclusão\n",
    "O resultado é coerente e mostra uma progreção, nas maiores organizações, da participação de crianças especiais. Essa visão é importante, pois suporta a organização no sentido de manter uma equipe adequada para acompanhar essas crianças."
   ]
  }
 ],
 "metadata": {
  "application/vnd.databricks.v1+notebook": {
   "dashboards": [],
   "environmentMetadata": null,
   "language": "python",
   "notebookMetadata": {
    "mostRecentlyExecutedCommandWithImplicitDF": {
     "commandId": 954098675179278,
     "dataframes": [
      "_sqldf"
     ]
    },
    "pythonIndentUnit": 4
   },
   "notebookName": "Pergunta 1",
   "widgets": {}
  }
 },
 "nbformat": 4,
 "nbformat_minor": 0
}
