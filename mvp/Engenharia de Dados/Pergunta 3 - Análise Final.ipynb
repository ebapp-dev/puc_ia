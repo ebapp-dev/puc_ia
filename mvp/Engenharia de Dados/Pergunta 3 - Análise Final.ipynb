{
 "cells": [
  {
   "cell_type": "markdown",
   "metadata": {
    "application/vnd.databricks.v1+cell": {
     "cellMetadata": {
      "byteLimit": 2048000,
      "rowLimit": 10000
     },
     "inputWidgets": {},
     "nuid": "edc31505-c459-4e95-9145-1b931d2b4dba",
     "showTitle": false,
     "title": ""
    }
   },
   "source": [
    "# Pergunta 3\n",
    "##\n",
    "##Qual média mensal de crianças do evento de domingo pela manhã, para classes kids, no primeiro semestre para a organização?\n",
    "\n",
    "- Crianças (dim_children)\n",
    "- Organização (dim_children, dim_events)\n",
    "- Mês (dim_events)\n",
    "- Classe (dim_classes)\n",
    "- Domingo a noite (dim_events, tipo=1)"
   ]
  },
  {
   "cell_type": "code",
   "execution_count": 0,
   "metadata": {
    "application/vnd.databricks.v1+cell": {
     "cellMetadata": {
      "byteLimit": 2048000,
      "rowLimit": 10000
     },
     "inputWidgets": {},
     "nuid": "d2a6f885-2df7-4b49-adac-0f278be1e48c",
     "showTitle": false,
     "title": ""
    }
   },
   "outputs": [
    {
     "output_type": "stream",
     "name": "stdout",
     "output_type": "stream",
     "text": [
      "Out[6]: True"
     ]
    }
   ],
   "source": [
    "#Apaga todas as tabelas do level3 diretório\n",
    "dbutils.fs.rm('dbfs:/user/hive/warehouse/level3.db/tb_fato3', True)"
   ]
  },
  {
   "cell_type": "code",
   "execution_count": 0,
   "metadata": {
    "application/vnd.databricks.v1+cell": {
     "cellMetadata": {
      "byteLimit": 2048000,
      "implicitDf": true,
      "rowLimit": 10000
     },
     "inputWidgets": {},
     "nuid": "637b84d2-c99b-43bf-8ed0-d1402bea0aab",
     "showTitle": false,
     "title": ""
    }
   },
   "outputs": [
    {
     "output_type": "display_data",
     "data": {
      "text/html": [
       "<style scoped>\n",
       "  .table-result-container {\n",
       "    max-height: 300px;\n",
       "    overflow: auto;\n",
       "  }\n",
       "  table, th, td {\n",
       "    border: 1px solid black;\n",
       "    border-collapse: collapse;\n",
       "  }\n",
       "  th, td {\n",
       "    padding: 5px;\n",
       "  }\n",
       "  th {\n",
       "    text-align: left;\n",
       "  }\n",
       "</style><div class='table-result-container'><table class='table-result'><thead style='background-color: white'><tr><th>org</th><th>mes</th><th>ano</th><th>tipo</th><th>classe</th><th>media</th></tr></thead><tbody><tr><td>ibarp</td><td>1</td><td>2024</td><td>1</td><td>Kids</td><td>1.67</td></tr><tr><td>ibarp</td><td>2</td><td>2024</td><td>1</td><td>Kids</td><td>4.25</td></tr><tr><td>ibarp</td><td>3</td><td>2024</td><td>1</td><td>Kids</td><td>6.00</td></tr><tr><td>ibarp</td><td>4</td><td>2024</td><td>1</td><td>Kids</td><td>4.50</td></tr><tr><td>ibarp</td><td>5</td><td>2024</td><td>1</td><td>Kids</td><td>2.00</td></tr><tr><td>ibarp</td><td>6</td><td>2024</td><td>1</td><td>Kids</td><td>1.00</td></tr><tr><td>ibatj</td><td>1</td><td>2024</td><td>1</td><td>Kids</td><td>9.00</td></tr><tr><td>ibatj</td><td>2</td><td>2024</td><td>1</td><td>Kids</td><td>12.50</td></tr><tr><td>ibatj</td><td>3</td><td>2024</td><td>1</td><td>Kids</td><td>16.67</td></tr><tr><td>ibatj</td><td>4</td><td>2024</td><td>1</td><td>Kids</td><td>13.33</td></tr><tr><td>ibatj</td><td>5</td><td>2024</td><td>1</td><td>Kids</td><td>10.50</td></tr><tr><td>ibatj</td><td>6</td><td>2024</td><td>1</td><td>Kids</td><td>10.25</td></tr><tr><td>ibazs</td><td>1</td><td>2024</td><td>1</td><td>Kids</td><td>14.00</td></tr><tr><td>ibazs</td><td>2</td><td>2024</td><td>1</td><td>Kids</td><td>15.67</td></tr><tr><td>ibazs</td><td>3</td><td>2024</td><td>1</td><td>Kids</td><td>15.00</td></tr><tr><td>ibazs</td><td>4</td><td>2024</td><td>1</td><td>Kids</td><td>14.00</td></tr><tr><td>ibazs</td><td>5</td><td>2024</td><td>1</td><td>Kids</td><td>15.25</td></tr><tr><td>ibazs</td><td>6</td><td>2024</td><td>1</td><td>Kids</td><td>19.50</td></tr></tbody></table></div>"
      ]
     },
     "metadata": {
      "application/vnd.databricks.v1+output": {
       "addedWidgets": {},
       "aggData": [],
       "aggError": "",
       "aggOverflow": false,
       "aggSchema": [],
       "aggSeriesLimitReached": false,
       "aggType": "",
       "arguments": {},
       "columnCustomDisplayInfos": {},
       "data": [
        [
         "ibarp",
         1,
         2024,
         1,
         "Kids",
         "1.67"
        ],
        [
         "ibarp",
         2,
         2024,
         1,
         "Kids",
         "4.25"
        ],
        [
         "ibarp",
         3,
         2024,
         1,
         "Kids",
         "6.00"
        ],
        [
         "ibarp",
         4,
         2024,
         1,
         "Kids",
         "4.50"
        ],
        [
         "ibarp",
         5,
         2024,
         1,
         "Kids",
         "2.00"
        ],
        [
         "ibarp",
         6,
         2024,
         1,
         "Kids",
         "1.00"
        ],
        [
         "ibatj",
         1,
         2024,
         1,
         "Kids",
         "9.00"
        ],
        [
         "ibatj",
         2,
         2024,
         1,
         "Kids",
         "12.50"
        ],
        [
         "ibatj",
         3,
         2024,
         1,
         "Kids",
         "16.67"
        ],
        [
         "ibatj",
         4,
         2024,
         1,
         "Kids",
         "13.33"
        ],
        [
         "ibatj",
         5,
         2024,
         1,
         "Kids",
         "10.50"
        ],
        [
         "ibatj",
         6,
         2024,
         1,
         "Kids",
         "10.25"
        ],
        [
         "ibazs",
         1,
         2024,
         1,
         "Kids",
         "14.00"
        ],
        [
         "ibazs",
         2,
         2024,
         1,
         "Kids",
         "15.67"
        ],
        [
         "ibazs",
         3,
         2024,
         1,
         "Kids",
         "15.00"
        ],
        [
         "ibazs",
         4,
         2024,
         1,
         "Kids",
         "14.00"
        ],
        [
         "ibazs",
         5,
         2024,
         1,
         "Kids",
         "15.25"
        ],
        [
         "ibazs",
         6,
         2024,
         1,
         "Kids",
         "19.50"
        ]
       ],
       "datasetInfos": [],
       "dbfsResultPath": null,
       "isJsonSchema": true,
       "metadata": {},
       "overflow": false,
       "plotOptions": {
        "customPlotOptions": {},
        "displayType": "table",
        "pivotAggregation": null,
        "pivotColumns": null,
        "xColumns": null,
        "yColumns": null
       },
       "removedWidgets": [],
       "schema": [
        {
         "metadata": "{}",
         "name": "org",
         "type": "\"string\""
        },
        {
         "metadata": "{}",
         "name": "mes",
         "type": "\"integer\""
        },
        {
         "metadata": "{}",
         "name": "ano",
         "type": "\"integer\""
        },
        {
         "metadata": "{}",
         "name": "tipo",
         "type": "\"integer\""
        },
        {
         "metadata": "{}",
         "name": "classe",
         "type": "\"string\""
        },
        {
         "metadata": "{}",
         "name": "media",
         "type": "\"decimal(5,2)\""
        }
       ],
       "type": "table"
      }
     },
     "output_type": "display_data"
    }
   ],
   "source": [
    "%sql\n",
    "\n",
    "USE level3;\n",
    "DROP TABLE IF EXISTS tb_fato3;\n",
    "CREATE TABLE tb_fato3 AS\n",
    "SELECT org, mes, ano, tipo, classe, cast(avg(quant) AS decimal(5,2)) as media\n",
    "FROM (SELECT A.org, extract(DAY FROM B.evento) as dia, extract(MONTH FROM B.evento) as mes, extract(YEAR FROM B.evento) as ano, B.eventoTipo as tipo, C.classe as classe, count(*) as quant \n",
    "FROM dim_events B\n",
    "INNER JOIN dim_children A ON (A.org = B.org AND A.mat = B.mat)\n",
    "INNER JOIN dim_classes C ON (A.idade >= C.idademin and A.idade <= C.idademax)\n",
    "WHERE NOT A.especial\n",
    "GROUP BY A.org, dia, mes, ano, tipo, classe\n",
    "ORDER BY org, ano, mes, dia, classe)\n",
    "group by org, mes,ano, tipo, classe;\n",
    "\n",
    "-- Select com a resposta\n",
    "SELECT * FROM tb_fato3 \n",
    "WHERE ano = 2024 AND mes < 7 AND tipo = 1 AND classe = 'Kids'\n",
    "ORDER BY org, mes, ano, tipo, classe;"
   ]
  },
  {
   "cell_type": "markdown",
   "metadata": {
    "application/vnd.databricks.v1+cell": {
     "cellMetadata": {
      "byteLimit": 2048000,
      "rowLimit": 10000
     },
     "inputWidgets": {},
     "nuid": "18188c71-2e04-406c-a89c-608417e8d500",
     "showTitle": false,
     "title": ""
    }
   },
   "source": [
    "###Conclusão\n",
    "\n",
    "Os dados apresentam resposta coerente da participação das crianças na classe Kids (5 a 8 anos). Para todas as orgnizações os dados apresentam uma estabilidade na presença de crianças dessa classe. Sugere que não há necessidade de reavaliação na quantidade da equipe e dos recursos necessários."
   ]
  },
  {
   "cell_type": "markdown",
   "metadata": {
    "application/vnd.databricks.v1+cell": {
     "cellMetadata": {
      "byteLimit": 2048000,
      "rowLimit": 10000
     },
     "inputWidgets": {},
     "nuid": "5b348db0-3ec9-44f3-bb2a-02d2c18c969f",
     "showTitle": false,
     "title": ""
    }
   },
   "source": [
    "##Análise Final\n",
    "A qualidade dos dados devem ser avaliada por dois aspectos. O primeiro é a qualidade dos dados de registro pessoal da criança e do responsável. Nesse caso temos um problema quando precisamos trazer os dados do responsável, principalmente as informações associadas ao endereço. A relação entre as tabelas mostra que 75% da crianças não tem responsável associado, não permitindo a busca de dados como o endereço. Também apresentou problemas nos dados digitados do responsável, exigindo ajustes que não foram suficientes para atender a 100% dos registro. Para o campo bairo, tentamos eliminar alguns problemas de digitação, mas não foi possível resolver todos os problemas. Outros dados pessoais das crianças estão preservados e foram úteis para a avaliação final, por exemplo, data de nascimento. O segundo é a qualidade dos dados de ação de presença da criança no envento da organização. Esses dados estão completos e podem ser usados para análise proposta.\n",
    "Sendo assim, o objetivo final foi atingido parcialmente. A tentativa de conhecer a posição geográfica das crianças em relação a organização, usando o bairro como referência, não houve resultado por falta de dados. O objetivo de conhecer a evolução da presença das crianças durante os últimos 6 meses foi alcançado. Podemos ter uma visão clara, principalmente das crianças especiais e da classe Kids. Com esse resultado a organização pode se preaparar melhor para atender a necessidades das crianças."
   ]
  },
  {
   "cell_type": "markdown",
   "metadata": {
    "application/vnd.databricks.v1+cell": {
     "cellMetadata": {},
     "inputWidgets": {},
     "nuid": "23ebc32e-c2d2-4331-9a2f-b2902b17828b",
     "showTitle": false,
     "title": ""
    }
   },
   "source": [
    "##Autoavaliação\n",
    "Como este aplicativo está sendo desenvolvido por mim, esta avaliação me mostrou que ele precisa de ser melhorado na coleta de alguns dados, para melhorar as qualidade de geração de alguns relatórios. É preciso realizar uma revisão nas interfaces com o usuário para melhorar o preenchimento dos dados.O controle de permissão de acesso está mais maduro, com dados consolidados e cosistentes."
   ]
  }
 ],
 "metadata": {
  "application/vnd.databricks.v1+notebook": {
   "dashboards": [],
   "environmentMetadata": null,
   "language": "python",
   "notebookMetadata": {
    "mostRecentlyExecutedCommandWithImplicitDF": {
     "commandId": 3545620992399515,
     "dataframes": [
      "_sqldf"
     ]
    },
    "pythonIndentUnit": 4
   },
   "notebookName": "Pergunta 3 - Análise Final",
   "widgets": {}
  }
 },
 "nbformat": 4,
 "nbformat_minor": 0
}
