{
 "cells": [
  {
   "cell_type": "markdown",
   "metadata": {
    "application/vnd.databricks.v1+cell": {
     "cellMetadata": {
      "byteLimit": 2048000,
      "rowLimit": 10000
     },
     "inputWidgets": {},
     "nuid": "edc31505-c459-4e95-9145-1b931d2b4dba",
     "showTitle": false,
     "title": ""
    }
   },
   "source": [
    "# Pergunta 1\n",
    "##\n",
    "##Quantidade de crianças Especiais que frequentaram por mês,  organização\n",
    "\n",
    "- Crianças (dim_children)\n",
    "- Mês (dim_events)\n",
    "- Organização (dim_children, dim_events)"
   ]
  },
  {
   "cell_type": "code",
   "execution_count": 0,
   "metadata": {
    "application/vnd.databricks.v1+cell": {
     "cellMetadata": {
      "byteLimit": 2048000,
      "rowLimit": 10000
     },
     "inputWidgets": {},
     "nuid": "d2a6f885-2df7-4b49-adac-0f278be1e48c",
     "showTitle": false,
     "title": ""
    }
   },
   "outputs": [
    {
     "output_type": "stream",
     "name": "stdout",
     "output_type": "stream",
     "text": [
      "Out[1]: True"
     ]
    }
   ],
   "source": [
    "#Apaga todas as tabelas do level3 diretório\n",
    "dbutils.fs.rm('dbfs:/user/hive/warehouse/level3.db/tb_fato1', True)"
   ]
  },
  {
   "cell_type": "code",
   "execution_count": 0,
   "metadata": {
    "application/vnd.databricks.v1+cell": {
     "cellMetadata": {
      "byteLimit": 2048000,
      "implicitDf": true,
      "rowLimit": 10000
     },
     "inputWidgets": {},
     "nuid": "637b84d2-c99b-43bf-8ed0-d1402bea0aab",
     "showTitle": false,
     "title": ""
    }
   },
   "outputs": [
    {
     "output_type": "display_data",
     "data": {
      "text/html": [
       "<style scoped>\n",
       "  .table-result-container {\n",
       "    max-height: 300px;\n",
       "    overflow: auto;\n",
       "  }\n",
       "  table, th, td {\n",
       "    border: 1px solid black;\n",
       "    border-collapse: collapse;\n",
       "  }\n",
       "  th, td {\n",
       "    padding: 5px;\n",
       "  }\n",
       "  th {\n",
       "    text-align: left;\n",
       "  }\n",
       "</style><div class='table-result-container'><table class='table-result'><thead style='background-color: white'><tr><th>org</th><th>mes</th><th>ano</th><th>quant</th></tr></thead><tbody><tr><td>ibarp</td><td>8</td><td>2023</td><td>1</td></tr><tr><td>ibarp</td><td>11</td><td>2023</td><td>1</td></tr><tr><td>ibarp</td><td>1</td><td>2024</td><td>4</td></tr><tr><td>ibarp</td><td>2</td><td>2024</td><td>4</td></tr><tr><td>ibarp</td><td>3</td><td>2024</td><td>2</td></tr><tr><td>ibarp</td><td>4</td><td>2024</td><td>3</td></tr><tr><td>ibarp</td><td>5</td><td>2024</td><td>4</td></tr><tr><td>ibarp</td><td>6</td><td>2024</td><td>9</td></tr><tr><td>ibatj</td><td>10</td><td>2023</td><td>3</td></tr><tr><td>ibatj</td><td>11</td><td>2023</td><td>9</td></tr><tr><td>ibatj</td><td>12</td><td>2023</td><td>9</td></tr><tr><td>ibatj</td><td>1</td><td>2024</td><td>13</td></tr><tr><td>ibatj</td><td>2</td><td>2024</td><td>16</td></tr><tr><td>ibatj</td><td>3</td><td>2024</td><td>19</td></tr><tr><td>ibatj</td><td>4</td><td>2024</td><td>19</td></tr><tr><td>ibatj</td><td>5</td><td>2024</td><td>27</td></tr><tr><td>ibatj</td><td>6</td><td>2024</td><td>26</td></tr><tr><td>ibavr</td><td>6</td><td>2023</td><td>2</td></tr><tr><td>ibavr</td><td>7</td><td>2023</td><td>5</td></tr><tr><td>ibavr</td><td>9</td><td>2023</td><td>3</td></tr><tr><td>ibavr</td><td>10</td><td>2023</td><td>4</td></tr><tr><td>ibavr</td><td>11</td><td>2023</td><td>1</td></tr><tr><td>ibavr</td><td>12</td><td>2023</td><td>1</td></tr><tr><td>ibavr</td><td>4</td><td>2024</td><td>3</td></tr><tr><td>ibavr</td><td>5</td><td>2024</td><td>4</td></tr><tr><td>ibavr</td><td>6</td><td>2024</td><td>2</td></tr><tr><td>ibazs</td><td>9</td><td>2023</td><td>12</td></tr><tr><td>ibazs</td><td>10</td><td>2023</td><td>25</td></tr><tr><td>ibazs</td><td>11</td><td>2023</td><td>15</td></tr><tr><td>ibazs</td><td>12</td><td>2023</td><td>22</td></tr><tr><td>ibazs</td><td>1</td><td>2024</td><td>31</td></tr><tr><td>ibazs</td><td>2</td><td>2024</td><td>14</td></tr><tr><td>ibazs</td><td>3</td><td>2024</td><td>27</td></tr><tr><td>ibazs</td><td>4</td><td>2024</td><td>31</td></tr><tr><td>ibazs</td><td>5</td><td>2024</td><td>32</td></tr><tr><td>ibazs</td><td>6</td><td>2024</td><td>34</td></tr></tbody></table></div>"
      ]
     },
     "metadata": {
      "application/vnd.databricks.v1+output": {
       "addedWidgets": {},
       "aggData": [],
       "aggError": "",
       "aggOverflow": false,
       "aggSchema": [],
       "aggSeriesLimitReached": false,
       "aggType": "",
       "arguments": {},
       "columnCustomDisplayInfos": {},
       "data": [
        [
         "ibarp",
         8,
         2023,
         1
        ],
        [
         "ibarp",
         11,
         2023,
         1
        ],
        [
         "ibarp",
         1,
         2024,
         4
        ],
        [
         "ibarp",
         2,
         2024,
         4
        ],
        [
         "ibarp",
         3,
         2024,
         2
        ],
        [
         "ibarp",
         4,
         2024,
         3
        ],
        [
         "ibarp",
         5,
         2024,
         4
        ],
        [
         "ibarp",
         6,
         2024,
         9
        ],
        [
         "ibatj",
         10,
         2023,
         3
        ],
        [
         "ibatj",
         11,
         2023,
         9
        ],
        [
         "ibatj",
         12,
         2023,
         9
        ],
        [
         "ibatj",
         1,
         2024,
         13
        ],
        [
         "ibatj",
         2,
         2024,
         16
        ],
        [
         "ibatj",
         3,
         2024,
         19
        ],
        [
         "ibatj",
         4,
         2024,
         19
        ],
        [
         "ibatj",
         5,
         2024,
         27
        ],
        [
         "ibatj",
         6,
         2024,
         26
        ],
        [
         "ibavr",
         6,
         2023,
         2
        ],
        [
         "ibavr",
         7,
         2023,
         5
        ],
        [
         "ibavr",
         9,
         2023,
         3
        ],
        [
         "ibavr",
         10,
         2023,
         4
        ],
        [
         "ibavr",
         11,
         2023,
         1
        ],
        [
         "ibavr",
         12,
         2023,
         1
        ],
        [
         "ibavr",
         4,
         2024,
         3
        ],
        [
         "ibavr",
         5,
         2024,
         4
        ],
        [
         "ibavr",
         6,
         2024,
         2
        ],
        [
         "ibazs",
         9,
         2023,
         12
        ],
        [
         "ibazs",
         10,
         2023,
         25
        ],
        [
         "ibazs",
         11,
         2023,
         15
        ],
        [
         "ibazs",
         12,
         2023,
         22
        ],
        [
         "ibazs",
         1,
         2024,
         31
        ],
        [
         "ibazs",
         2,
         2024,
         14
        ],
        [
         "ibazs",
         3,
         2024,
         27
        ],
        [
         "ibazs",
         4,
         2024,
         31
        ],
        [
         "ibazs",
         5,
         2024,
         32
        ],
        [
         "ibazs",
         6,
         2024,
         34
        ]
       ],
       "datasetInfos": [],
       "dbfsResultPath": null,
       "isJsonSchema": true,
       "metadata": {},
       "overflow": false,
       "plotOptions": {
        "customPlotOptions": {},
        "displayType": "table",
        "pivotAggregation": null,
        "pivotColumns": null,
        "xColumns": null,
        "yColumns": null
       },
       "removedWidgets": [],
       "schema": [
        {
         "metadata": "{}",
         "name": "org",
         "type": "\"string\""
        },
        {
         "metadata": "{}",
         "name": "mes",
         "type": "\"integer\""
        },
        {
         "metadata": "{}",
         "name": "ano",
         "type": "\"integer\""
        },
        {
         "metadata": "{}",
         "name": "quant",
         "type": "\"long\""
        }
       ],
       "type": "table"
      }
     },
     "output_type": "display_data"
    }
   ],
   "source": [
    "%sql\n",
    "USE level3;\n",
    "DROP TABLE IF EXISTS tb_fato1;\n",
    "CREATE TABLE tb_fato1 AS\n",
    "SELECT A.org, extract(MONTH FROM B.evento) as mes, extract(YEAR FROM B.evento) as ano, count(*) as quant\n",
    "FROM dim_events B\n",
    "INNER JOIN dim_children A ON (A.org = B.org AND A.mat = B.mat)\n",
    "WHERE A.especial\n",
    "GROUP BY A.org, mes, ano\n",
    "ORDER BY org, ano, mes;\n",
    "\n",
    "SELECT * FROM tb_fato1;"
   ]
  }
 ],
 "metadata": {
  "application/vnd.databricks.v1+notebook": {
   "dashboards": [],
   "environmentMetadata": null,
   "language": "python",
   "notebookMetadata": {
    "mostRecentlyExecutedCommandWithImplicitDF": {
     "commandId": 954098675179278,
     "dataframes": [
      "_sqldf"
     ]
    },
    "pythonIndentUnit": 4
   },
   "notebookName": "Pergunta 1",
   "widgets": {}
  }
 },
 "nbformat": 4,
 "nbformat_minor": 0
}
