{
 "cells": [
  {
   "cell_type": "markdown",
   "metadata": {
    "application/vnd.databricks.v1+cell": {
     "cellMetadata": {
      "byteLimit": 2048000,
      "rowLimit": 10000
     },
     "inputWidgets": {},
     "nuid": "edc31505-c459-4e95-9145-1b931d2b4dba",
     "showTitle": false,
     "title": ""
    },
    "jupyter": {
     "outputs_hidden": true
    }
   },
   "source": [
    "# Pergunta 2\n",
    "##\n",
    "##Quantidade crianças por organização / bairro\n",
    "\n",
    "- Crianças (dim_children)\n",
    "- Bairro (dim_parents)\n",
    "- Organização (dim_children)"
   ]
  },
  {
   "cell_type": "code",
   "execution_count": 0,
   "metadata": {
    "application/vnd.databricks.v1+cell": {
     "cellMetadata": {
      "byteLimit": 2048000,
      "rowLimit": 10000
     },
     "inputWidgets": {},
     "nuid": "d2a6f885-2df7-4b49-adac-0f278be1e48c",
     "showTitle": false,
     "title": ""
    }
   },
   "outputs": [
    {
     "output_type": "stream",
     "name": "stdout",
     "output_type": "stream",
     "text": [
      "Out[1]: True"
     ]
    }
   ],
   "source": [
    "#Apaga todas as tabelas do level3 diretório\n",
    "dbutils.fs.rm('dbfs:/user/hive/warehouse/level3.db/tb_fato2', True)"
   ]
  },
  {
   "cell_type": "code",
   "execution_count": 0,
   "metadata": {
    "application/vnd.databricks.v1+cell": {
     "cellMetadata": {
      "byteLimit": 2048000,
      "implicitDf": true,
      "rowLimit": 10000
     },
     "inputWidgets": {},
     "nuid": "637b84d2-c99b-43bf-8ed0-d1402bea0aab",
     "showTitle": false,
     "title": ""
    }
   },
   "outputs": [
    {
     "output_type": "display_data",
     "data": {
      "text/html": [
       "<style scoped>\n",
       "  .table-result-container {\n",
       "    max-height: 300px;\n",
       "    overflow: auto;\n",
       "  }\n",
       "  table, th, td {\n",
       "    border: 1px solid black;\n",
       "    border-collapse: collapse;\n",
       "  }\n",
       "  th, td {\n",
       "    padding: 5px;\n",
       "  }\n",
       "  th {\n",
       "    text-align: left;\n",
       "  }\n",
       "</style><div class='table-result-container'><table class='table-result'><thead style='background-color: white'><tr><th>org</th><th>bairro</th><th>quant</th></tr></thead><tbody><tr><td>ibarp</td><td>Anil</td><td>1</td></tr><tr><td>ibarp</td><td>Austin</td><td>1</td></tr><tr><td>ibarp</td><td>Botafogo</td><td>2</td></tr><tr><td>ibarp</td><td>Freguesia</td><td>1</td></tr><tr><td>ibarp</td><td>Itanhaga</td><td>1</td></tr><tr><td>ibarp</td><td>Itanhanga</td><td>10</td></tr><tr><td>ibarp</td><td>Itanhangá</td><td>28</td></tr><tr><td>ibarp</td><td>Jacarepaguá</td><td>3</td></tr><tr><td>ibarp</td><td>Muzema</td><td>2</td></tr><tr><td>ibarp</td><td>Rio das Pedras</td><td>1</td></tr><tr><td>ibarp</td><td>Tijuquinha</td><td>8</td></tr><tr><td>ibarp</td><td>anil</td><td>1</td></tr><tr><td>ibarp</td><td>barra da Tijuca</td><td>1</td></tr><tr><td>ibarp</td><td>barra da tijuca</td><td>4</td></tr><tr><td>ibarp</td><td>inhoaiba</td><td>1</td></tr><tr><td>ibarp</td><td>intanhaga</td><td>1</td></tr><tr><td>ibarp</td><td>invasão</td><td>2</td></tr><tr><td>ibarp</td><td>itanhaga</td><td>2</td></tr><tr><td>ibarp</td><td>itanhanga</td><td>1</td></tr><tr><td>ibarp</td><td>musema</td><td>1</td></tr><tr><td>ibarp</td><td>muzema</td><td>4</td></tr><tr><td>ibarp</td><td>rio das pedras</td><td>4</td></tr><tr><td>ibarp</td><td>rio de Janeiro</td><td>3</td></tr><tr><td>ibarp</td><td>rio de janeiro</td><td>1</td></tr><tr><td>ibarp</td><td>tijuquinha</td><td>3</td></tr><tr><td>ibatj</td><td>Andaraí</td><td>2</td></tr><tr><td>ibatj</td><td>Cachambi</td><td>2</td></tr><tr><td>ibatj</td><td>Copacabana</td><td>1</td></tr><tr><td>ibatj</td><td>Engenho novo</td><td>2</td></tr><tr><td>ibatj</td><td>Grajaú</td><td>10</td></tr><tr><td>ibatj</td><td>Laranjeiras</td><td>1</td></tr><tr><td>ibatj</td><td>Maracanã</td><td>6</td></tr><tr><td>ibatj</td><td>Maria da Graca</td><td>2</td></tr><tr><td>ibatj</td><td>Meier</td><td>1</td></tr><tr><td>ibatj</td><td>Penha</td><td>1</td></tr><tr><td>ibatj</td><td>Prç da bandeira</td><td>1</td></tr><tr><td>ibatj</td><td>Rio Comprido</td><td>1</td></tr><tr><td>ibatj</td><td>Rio comprido</td><td>1</td></tr><tr><td>ibatj</td><td>Santa Cruz</td><td>2</td></tr><tr><td>ibatj</td><td>Santa teresa</td><td>1</td></tr><tr><td>ibatj</td><td>São Cristóvão</td><td>13</td></tr><tr><td>ibatj</td><td>São Francisco Xavier</td><td>3</td></tr><tr><td>ibatj</td><td>Tijuca</td><td>33</td></tr><tr><td>ibatj</td><td>Vila Isabel</td><td>11</td></tr><tr><td>ibatj</td><td>andaraí</td><td>1</td></tr><tr><td>ibatj</td><td>centro</td><td>1</td></tr><tr><td>ibatj</td><td>grajau</td><td>3</td></tr><tr><td>ibatj</td><td>jacaré</td><td>1</td></tr><tr><td>ibatj</td><td>lapa</td><td>1</td></tr><tr><td>ibatj</td><td>leme</td><td>1</td></tr><tr><td>ibatj</td><td>lins</td><td>1</td></tr><tr><td>ibatj</td><td>mangueira</td><td>3</td></tr><tr><td>ibatj</td><td>riachuelo</td><td>3</td></tr><tr><td>ibatj</td><td>rio comprido</td><td>1</td></tr><tr><td>ibatj</td><td>são Cristóvão</td><td>6</td></tr><tr><td>ibatj</td><td>são cristóvão</td><td>2</td></tr><tr><td>ibatj</td><td>tijuca</td><td>9</td></tr><tr><td>ibatj</td><td>vila Isabel</td><td>9</td></tr><tr><td>ibatj</td><td>vila isabel</td><td>4</td></tr><tr><td>ibavr</td><td>Aterrado</td><td>2</td></tr><tr><td>ibavr</td><td>Ceramica</td><td>1</td></tr><tr><td>ibavr</td><td>Recreio</td><td>1</td></tr><tr><td>ibavr</td><td>Recreio dos Bandeirantes</td><td>2</td></tr><tr><td>ibavr</td><td>Santa Ines</td><td>2</td></tr><tr><td>ibavr</td><td>Santa Rita</td><td>1</td></tr><tr><td>ibavr</td><td>São Cristóvão</td><td>1</td></tr><tr><td>ibavr</td><td>São João</td><td>3</td></tr><tr><td>ibavr</td><td>Vila Santa Cecília</td><td>1</td></tr><tr><td>ibavr</td><td>minerlandia</td><td>1</td></tr><tr><td>ibavr</td><td>são Sebastião</td><td>2</td></tr><tr><td>ibavr</td><td>varjão</td><td>1</td></tr><tr><td>ibavr</td><td>água limpa</td><td>2</td></tr><tr><td>ibazs</td><td>Alto da Boa Vista</td><td>1</td></tr><tr><td>ibazs</td><td>Botafogo</td><td>33</td></tr><tr><td>ibazs</td><td>Botafogp</td><td>2</td></tr><tr><td>ibazs</td><td>Catete</td><td>5</td></tr><tr><td>ibazs</td><td>Catumbi</td><td>3</td></tr><tr><td>ibazs</td><td>Copacabana</td><td>21</td></tr><tr><td>ibazs</td><td>Cosme velho</td><td>1</td></tr><tr><td>ibazs</td><td>Estácio</td><td>1</td></tr><tr><td>ibazs</td><td>Flamengo</td><td>16</td></tr><tr><td>ibazs</td><td>Icaraí</td><td>1</td></tr><tr><td>ibazs</td><td>Ipanema</td><td>9</td></tr><tr><td>ibazs</td><td>Jardim Botânico</td><td>1</td></tr><tr><td>ibazs</td><td>Jardim botânico</td><td>2</td></tr><tr><td>ibazs</td><td>Jd Botânico</td><td>1</td></tr><tr><td>ibazs</td><td>Laranjeiras</td><td>8</td></tr><tr><td>ibazs</td><td>Leblon</td><td>3</td></tr><tr><td>ibazs</td><td>Leme</td><td>2</td></tr><tr><td>ibazs</td><td>Maracanã</td><td>3</td></tr><tr><td>ibazs</td><td>Meier</td><td>1</td></tr><tr><td>ibazs</td><td>Méier</td><td>1</td></tr><tr><td>ibazs</td><td>Pavuna</td><td>1</td></tr><tr><td>ibazs</td><td>Penha</td><td>1</td></tr><tr><td>ibazs</td><td>Praça da Bandeira</td><td>2</td></tr><tr><td>ibazs</td><td>Realengo</td><td>1</td></tr><tr><td>ibazs</td><td>Riachuelo</td><td>6</td></tr><tr><td>ibazs</td><td>Rio Comprido</td><td>2</td></tr><tr><td>ibazs</td><td>Rocha</td><td>1</td></tr><tr><td>ibazs</td><td>Sampaio</td><td>2</td></tr><tr><td>ibazs</td><td>Santa Teresa</td><td>4</td></tr><tr><td>ibazs</td><td>Santo Cristo</td><td>4</td></tr><tr><td>ibazs</td><td>Tijuca</td><td>8</td></tr><tr><td>ibazs</td><td>Urca</td><td>2</td></tr><tr><td>ibazs</td><td>Vidigal</td><td>4</td></tr><tr><td>ibazs</td><td>barra da Tijuca</td><td>1</td></tr><tr><td>ibazs</td><td>bonsucesso</td><td>1</td></tr><tr><td>ibazs</td><td>botafogo</td><td>14</td></tr><tr><td>ibazs</td><td>catete</td><td>1</td></tr><tr><td>ibazs</td><td>centro</td><td>1</td></tr><tr><td>ibazs</td><td>copacabana</td><td>5</td></tr><tr><td>ibazs</td><td>estacio</td><td>2</td></tr><tr><td>ibazs</td><td>flamengo</td><td>2</td></tr><tr><td>ibazs</td><td>glória</td><td>1</td></tr><tr><td>ibazs</td><td>ipanema</td><td>1</td></tr><tr><td>ibazs</td><td>jardim botânico</td><td>4</td></tr><tr><td>ibazs</td><td>laranjeiras</td><td>4</td></tr><tr><td>ibazs</td><td>leblon</td><td>1</td></tr><tr><td>ibazs</td><td>leme</td><td>3</td></tr><tr><td>ibazs</td><td>maracana</td><td>2</td></tr><tr><td>ibazs</td><td>penha</td><td>2</td></tr><tr><td>ibazs</td><td>praça da bandeira</td><td>2</td></tr><tr><td>ibazs</td><td>rio Comprido</td><td>1</td></tr><tr><td>ibazs</td><td>rj</td><td>1</td></tr><tr><td>ibazs</td><td>rocinha</td><td>10</td></tr><tr><td>ibazs</td><td>santa tereza</td><td>1</td></tr><tr><td>ibazs</td><td>urca</td><td>1</td></tr></tbody></table></div>"
      ]
     },
     "metadata": {
      "application/vnd.databricks.v1+output": {
       "addedWidgets": {},
       "aggData": [],
       "aggError": "",
       "aggOverflow": false,
       "aggSchema": [],
       "aggSeriesLimitReached": false,
       "aggType": "",
       "arguments": {},
       "columnCustomDisplayInfos": {},
       "data": [
        [
         "ibarp",
         "Anil",
         1
        ],
        [
         "ibarp",
         "Austin",
         1
        ],
        [
         "ibarp",
         "Botafogo",
         2
        ],
        [
         "ibarp",
         "Freguesia",
         1
        ],
        [
         "ibarp",
         "Itanhaga",
         1
        ],
        [
         "ibarp",
         "Itanhanga",
         10
        ],
        [
         "ibarp",
         "Itanhangá",
         28
        ],
        [
         "ibarp",
         "Jacarepaguá",
         3
        ],
        [
         "ibarp",
         "Muzema",
         2
        ],
        [
         "ibarp",
         "Rio das Pedras",
         1
        ],
        [
         "ibarp",
         "Tijuquinha",
         8
        ],
        [
         "ibarp",
         "anil",
         1
        ],
        [
         "ibarp",
         "barra da Tijuca",
         1
        ],
        [
         "ibarp",
         "barra da tijuca",
         4
        ],
        [
         "ibarp",
         "inhoaiba",
         1
        ],
        [
         "ibarp",
         "intanhaga",
         1
        ],
        [
         "ibarp",
         "invasão",
         2
        ],
        [
         "ibarp",
         "itanhaga",
         2
        ],
        [
         "ibarp",
         "itanhanga",
         1
        ],
        [
         "ibarp",
         "musema",
         1
        ],
        [
         "ibarp",
         "muzema",
         4
        ],
        [
         "ibarp",
         "rio das pedras",
         4
        ],
        [
         "ibarp",
         "rio de Janeiro",
         3
        ],
        [
         "ibarp",
         "rio de janeiro",
         1
        ],
        [
         "ibarp",
         "tijuquinha",
         3
        ],
        [
         "ibatj",
         "Andaraí",
         2
        ],
        [
         "ibatj",
         "Cachambi",
         2
        ],
        [
         "ibatj",
         "Copacabana",
         1
        ],
        [
         "ibatj",
         "Engenho novo",
         2
        ],
        [
         "ibatj",
         "Grajaú",
         10
        ],
        [
         "ibatj",
         "Laranjeiras",
         1
        ],
        [
         "ibatj",
         "Maracanã",
         6
        ],
        [
         "ibatj",
         "Maria da Graca",
         2
        ],
        [
         "ibatj",
         "Meier",
         1
        ],
        [
         "ibatj",
         "Penha",
         1
        ],
        [
         "ibatj",
         "Prç da bandeira",
         1
        ],
        [
         "ibatj",
         "Rio Comprido",
         1
        ],
        [
         "ibatj",
         "Rio comprido",
         1
        ],
        [
         "ibatj",
         "Santa Cruz",
         2
        ],
        [
         "ibatj",
         "Santa teresa",
         1
        ],
        [
         "ibatj",
         "São Cristóvão",
         13
        ],
        [
         "ibatj",
         "São Francisco Xavier",
         3
        ],
        [
         "ibatj",
         "Tijuca",
         33
        ],
        [
         "ibatj",
         "Vila Isabel",
         11
        ],
        [
         "ibatj",
         "andaraí",
         1
        ],
        [
         "ibatj",
         "centro",
         1
        ],
        [
         "ibatj",
         "grajau",
         3
        ],
        [
         "ibatj",
         "jacaré",
         1
        ],
        [
         "ibatj",
         "lapa",
         1
        ],
        [
         "ibatj",
         "leme",
         1
        ],
        [
         "ibatj",
         "lins",
         1
        ],
        [
         "ibatj",
         "mangueira",
         3
        ],
        [
         "ibatj",
         "riachuelo",
         3
        ],
        [
         "ibatj",
         "rio comprido",
         1
        ],
        [
         "ibatj",
         "são Cristóvão",
         6
        ],
        [
         "ibatj",
         "são cristóvão",
         2
        ],
        [
         "ibatj",
         "tijuca",
         9
        ],
        [
         "ibatj",
         "vila Isabel",
         9
        ],
        [
         "ibatj",
         "vila isabel",
         4
        ],
        [
         "ibavr",
         "Aterrado",
         2
        ],
        [
         "ibavr",
         "Ceramica",
         1
        ],
        [
         "ibavr",
         "Recreio",
         1
        ],
        [
         "ibavr",
         "Recreio dos Bandeirantes",
         2
        ],
        [
         "ibavr",
         "Santa Ines",
         2
        ],
        [
         "ibavr",
         "Santa Rita",
         1
        ],
        [
         "ibavr",
         "São Cristóvão",
         1
        ],
        [
         "ibavr",
         "São João",
         3
        ],
        [
         "ibavr",
         "Vila Santa Cecília",
         1
        ],
        [
         "ibavr",
         "minerlandia",
         1
        ],
        [
         "ibavr",
         "são Sebastião",
         2
        ],
        [
         "ibavr",
         "varjão",
         1
        ],
        [
         "ibavr",
         "água limpa",
         2
        ],
        [
         "ibazs",
         "Alto da Boa Vista",
         1
        ],
        [
         "ibazs",
         "Botafogo",
         33
        ],
        [
         "ibazs",
         "Botafogp",
         2
        ],
        [
         "ibazs",
         "Catete",
         5
        ],
        [
         "ibazs",
         "Catumbi",
         3
        ],
        [
         "ibazs",
         "Copacabana",
         21
        ],
        [
         "ibazs",
         "Cosme velho",
         1
        ],
        [
         "ibazs",
         "Estácio",
         1
        ],
        [
         "ibazs",
         "Flamengo",
         16
        ],
        [
         "ibazs",
         "Icaraí",
         1
        ],
        [
         "ibazs",
         "Ipanema",
         9
        ],
        [
         "ibazs",
         "Jardim Botânico",
         1
        ],
        [
         "ibazs",
         "Jardim botânico",
         2
        ],
        [
         "ibazs",
         "Jd Botânico",
         1
        ],
        [
         "ibazs",
         "Laranjeiras",
         8
        ],
        [
         "ibazs",
         "Leblon",
         3
        ],
        [
         "ibazs",
         "Leme",
         2
        ],
        [
         "ibazs",
         "Maracanã",
         3
        ],
        [
         "ibazs",
         "Meier",
         1
        ],
        [
         "ibazs",
         "Méier",
         1
        ],
        [
         "ibazs",
         "Pavuna",
         1
        ],
        [
         "ibazs",
         "Penha",
         1
        ],
        [
         "ibazs",
         "Praça da Bandeira",
         2
        ],
        [
         "ibazs",
         "Realengo",
         1
        ],
        [
         "ibazs",
         "Riachuelo",
         6
        ],
        [
         "ibazs",
         "Rio Comprido",
         2
        ],
        [
         "ibazs",
         "Rocha",
         1
        ],
        [
         "ibazs",
         "Sampaio",
         2
        ],
        [
         "ibazs",
         "Santa Teresa",
         4
        ],
        [
         "ibazs",
         "Santo Cristo",
         4
        ],
        [
         "ibazs",
         "Tijuca",
         8
        ],
        [
         "ibazs",
         "Urca",
         2
        ],
        [
         "ibazs",
         "Vidigal",
         4
        ],
        [
         "ibazs",
         "barra da Tijuca",
         1
        ],
        [
         "ibazs",
         "bonsucesso",
         1
        ],
        [
         "ibazs",
         "botafogo",
         14
        ],
        [
         "ibazs",
         "catete",
         1
        ],
        [
         "ibazs",
         "centro",
         1
        ],
        [
         "ibazs",
         "copacabana",
         5
        ],
        [
         "ibazs",
         "estacio",
         2
        ],
        [
         "ibazs",
         "flamengo",
         2
        ],
        [
         "ibazs",
         "glória",
         1
        ],
        [
         "ibazs",
         "ipanema",
         1
        ],
        [
         "ibazs",
         "jardim botânico",
         4
        ],
        [
         "ibazs",
         "laranjeiras",
         4
        ],
        [
         "ibazs",
         "leblon",
         1
        ],
        [
         "ibazs",
         "leme",
         3
        ],
        [
         "ibazs",
         "maracana",
         2
        ],
        [
         "ibazs",
         "penha",
         2
        ],
        [
         "ibazs",
         "praça da bandeira",
         2
        ],
        [
         "ibazs",
         "rio Comprido",
         1
        ],
        [
         "ibazs",
         "rj",
         1
        ],
        [
         "ibazs",
         "rocinha",
         10
        ],
        [
         "ibazs",
         "santa tereza",
         1
        ],
        [
         "ibazs",
         "urca",
         1
        ]
       ],
       "datasetInfos": [],
       "dbfsResultPath": null,
       "isJsonSchema": true,
       "metadata": {},
       "overflow": false,
       "plotOptions": {
        "customPlotOptions": {},
        "displayType": "table",
        "pivotAggregation": null,
        "pivotColumns": null,
        "xColumns": null,
        "yColumns": null
       },
       "removedWidgets": [],
       "schema": [
        {
         "metadata": "{}",
         "name": "org",
         "type": "\"string\""
        },
        {
         "metadata": "{}",
         "name": "bairro",
         "type": "\"string\""
        },
        {
         "metadata": "{}",
         "name": "quant",
         "type": "\"long\""
        }
       ],
       "type": "table"
      }
     },
     "output_type": "display_data"
    }
   ],
   "source": [
    "%sql\n",
    "USE level3;\n",
    "DROP TABLE IF EXISTS tb_fato2;\n",
    "CREATE TABLE tb_fato2 AS\n",
    "SELECT A.org, trim(B.bairro) as bairro, count(*) as quant\n",
    "FROM dim_children A\n",
    "INNER JOIN dim_parents B ON (A.matResp = B.matResp AND A.org = B.org)\n",
    "GROUP BY A.org, B.bairro\n",
    "ORDER BY org, bairro;\n",
    "\n",
    "SELECT * FROM tb_fato2;"
   ]
  }
 ],
 "metadata": {
  "application/vnd.databricks.v1+notebook": {
   "dashboards": [],
   "environmentMetadata": null,
   "language": "python",
   "notebookMetadata": {
    "mostRecentlyExecutedCommandWithImplicitDF": {
     "commandId": 3018831838772219,
     "dataframes": [
      "_sqldf"
     ]
    },
    "pythonIndentUnit": 4
   },
   "notebookName": "Pergunta 2",
   "widgets": {}
  }
 },
 "nbformat": 4,
 "nbformat_minor": 0
}
