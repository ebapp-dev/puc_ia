{
 "cells": [
  {
   "cell_type": "code",
   "execution_count": 0,
   "metadata": {
    "application/vnd.databricks.v1+cell": {
     "cellMetadata": {
      "byteLimit": 2048000,
      "rowLimit": 10000
     },
     "inputWidgets": {},
     "nuid": "e8930e08-6db7-4e3a-8ee1-0edb69404613",
     "showTitle": false,
     "title": ""
    }
   },
   "outputs": [
    {
     "output_type": "stream",
     "name": "stdout",
     "output_type": "stream",
     "text": [
      "Out[3]: True"
     ]
    }
   ],
   "source": [
    "%python\n",
    "#Apaga todas as tabelas do level3 diretório\n",
    "dbutils.fs.rm('dbfs:/user/hive/warehouse/level3.db/dim_classes', True)\n",
    "dbutils.fs.rm('dbfs:/user/hive/warehouse/level3.db/dim_children', True)\n",
    "dbutils.fs.rm('dbfs:/user/hive/warehouse/level3.db/dim_parents', True)\n",
    "dbutils.fs.rm('dbfs:/user/hive/warehouse/level3.db/dim_events', True)"
   ]
  },
  {
   "cell_type": "markdown",
   "metadata": {
    "application/vnd.databricks.v1+cell": {
     "cellMetadata": {
      "byteLimit": 2048000,
      "rowLimit": 10000
     },
     "inputWidgets": {},
     "nuid": "d494a472-ac73-427f-9f99-3f3be898ed87",
     "showTitle": false,
     "title": ""
    }
   },
   "source": [
    "###Tabela Dimensão Classes"
   ]
  },
  {
   "cell_type": "code",
   "execution_count": 0,
   "metadata": {
    "application/vnd.databricks.v1+cell": {
     "cellMetadata": {
      "byteLimit": 2048000,
      "rowLimit": 10000
     },
     "inputWidgets": {},
     "nuid": "ae171879-babc-42e8-a93c-7abe59d33b39",
     "showTitle": false,
     "title": ""
    }
   },
   "outputs": [
    {
     "output_type": "display_data",
     "data": {
      "text/html": [
       "<style scoped>\n",
       "  .table-result-container {\n",
       "    max-height: 300px;\n",
       "    overflow: auto;\n",
       "  }\n",
       "  table, th, td {\n",
       "    border: 1px solid black;\n",
       "    border-collapse: collapse;\n",
       "  }\n",
       "  th, td {\n",
       "    padding: 5px;\n",
       "  }\n",
       "  th {\n",
       "    text-align: left;\n",
       "  }\n",
       "</style><div class='table-result-container'><table class='table-result'><thead style='background-color: white'><tr><th>num_affected_rows</th><th>num_inserted_rows</th></tr></thead><tbody><tr><td>4</td><td>4</td></tr></tbody></table></div>"
      ]
     },
     "metadata": {
      "application/vnd.databricks.v1+output": {
       "addedWidgets": {},
       "aggData": [],
       "aggError": "",
       "aggOverflow": false,
       "aggSchema": [],
       "aggSeriesLimitReached": false,
       "aggType": "",
       "arguments": {},
       "columnCustomDisplayInfos": {},
       "data": [
        [
         4,
         4
        ]
       ],
       "datasetInfos": [],
       "dbfsResultPath": null,
       "isJsonSchema": true,
       "metadata": {
        "isDbfsCommandResult": false
       },
       "overflow": false,
       "plotOptions": {
        "customPlotOptions": {},
        "displayType": "table",
        "pivotAggregation": null,
        "pivotColumns": null,
        "xColumns": null,
        "yColumns": null
       },
       "removedWidgets": [],
       "schema": [
        {
         "metadata": "{}",
         "name": "num_affected_rows",
         "type": "\"long\""
        },
        {
         "metadata": "{}",
         "name": "num_inserted_rows",
         "type": "\"long\""
        }
       ],
       "type": "table"
      }
     },
     "output_type": "display_data"
    }
   ],
   "source": [
    "%sql\n",
    "CREATE DATABASE IF NOT EXISTS level3;\n",
    "use level3;\n",
    "DROP TABLE IF EXISTS dim_classes;\n",
    "CREATE TABLE IF NOT EXISTS dim_classes (id INT, classe STRING, idademin INT, idademax INT);\n",
    "INSERT INTO dim_classes values (1,'Babies', 3, 4), (2,'Kids', 5, 8), (3,'Pre-Teens', 9, 10), (4,'Sub-13', 11, 13);"
   ]
  },
  {
   "cell_type": "markdown",
   "metadata": {
    "application/vnd.databricks.v1+cell": {
     "cellMetadata": {
      "byteLimit": 2048000,
      "rowLimit": 10000
     },
     "inputWidgets": {},
     "nuid": "776cabd5-f211-484b-8073-37325810f12c",
     "showTitle": false,
     "title": ""
    }
   },
   "source": [
    "###Tabela Dimensão Crianças"
   ]
  },
  {
   "cell_type": "code",
   "execution_count": 0,
   "metadata": {
    "application/vnd.databricks.v1+cell": {
     "cellMetadata": {
      "byteLimit": 2048000,
      "rowLimit": 10000
     },
     "inputWidgets": {},
     "nuid": "e1fc3969-e872-4a7c-bb94-010e789f50ca",
     "showTitle": false,
     "title": ""
    }
   },
   "outputs": [
    {
     "output_type": "display_data",
     "data": {
      "text/html": [
       "<style scoped>\n",
       "  .table-result-container {\n",
       "    max-height: 300px;\n",
       "    overflow: auto;\n",
       "  }\n",
       "  table, th, td {\n",
       "    border: 1px solid black;\n",
       "    border-collapse: collapse;\n",
       "  }\n",
       "  th, td {\n",
       "    padding: 5px;\n",
       "  }\n",
       "  th {\n",
       "    text-align: left;\n",
       "  }\n",
       "</style><div class='table-result-container'><table class='table-result'><thead style='background-color: white'><tr><th>col_name</th><th>data_type</th><th>comment</th></tr></thead><tbody><tr><td>org</td><td>string</td><td>null</td></tr><tr><td>mat</td><td>int</td><td>null</td></tr><tr><td>matResp</td><td>bigint</td><td>null</td></tr><tr><td>codigo</td><td>int</td><td>null</td></tr><tr><td>dtnasc</td><td>date</td><td>null</td></tr><tr><td>dtinicio</td><td>timestamp</td><td>null</td></tr><tr><td>genero</td><td>string</td><td>null</td></tr><tr><td>especial</td><td>boolean</td><td>null</td></tr><tr><td>restriAlimentar</td><td>boolean</td><td>null</td></tr><tr><td>visitante</td><td>boolean</td><td>null</td></tr><tr><td>idade</td><td>bigint</td><td>null</td></tr></tbody></table></div>"
      ]
     },
     "metadata": {
      "application/vnd.databricks.v1+output": {
       "addedWidgets": {},
       "aggData": [],
       "aggError": "",
       "aggOverflow": false,
       "aggSchema": [],
       "aggSeriesLimitReached": false,
       "aggType": "",
       "arguments": {},
       "columnCustomDisplayInfos": {},
       "data": [
        [
         "org",
         "string",
         null
        ],
        [
         "mat",
         "int",
         null
        ],
        [
         "matResp",
         "bigint",
         null
        ],
        [
         "codigo",
         "int",
         null
        ],
        [
         "dtnasc",
         "date",
         null
        ],
        [
         "dtinicio",
         "timestamp",
         null
        ],
        [
         "genero",
         "string",
         null
        ],
        [
         "especial",
         "boolean",
         null
        ],
        [
         "restriAlimentar",
         "boolean",
         null
        ],
        [
         "visitante",
         "boolean",
         null
        ],
        [
         "idade",
         "bigint",
         null
        ]
       ],
       "datasetInfos": [],
       "dbfsResultPath": null,
       "isJsonSchema": true,
       "metadata": {
        "isDbfsCommandResult": false
       },
       "overflow": false,
       "plotOptions": {
        "customPlotOptions": {},
        "displayType": "table",
        "pivotAggregation": null,
        "pivotColumns": null,
        "xColumns": null,
        "yColumns": null
       },
       "removedWidgets": [],
       "schema": [
        {
         "metadata": "{\"comment\":\"name of the column\"}",
         "name": "col_name",
         "type": "\"string\""
        },
        {
         "metadata": "{\"comment\":\"data type of the column\"}",
         "name": "data_type",
         "type": "\"string\""
        },
        {
         "metadata": "{\"comment\":\"comment of the column\"}",
         "name": "comment",
         "type": "\"string\""
        }
       ],
       "type": "table"
      }
     },
     "output_type": "display_data"
    }
   ],
   "source": [
    "%sql\n",
    "USE level3;\n",
    "DROP TABLE IF EXISTS dim_children;\n",
    "CREATE TABLE dim_children AS\n",
    "SELECT * FROM level2.tb_children_l2;\n",
    "\n",
    "DESCRIBE TABLE dim_children;"
   ]
  },
  {
   "cell_type": "markdown",
   "metadata": {
    "application/vnd.databricks.v1+cell": {
     "cellMetadata": {
      "byteLimit": 2048000,
      "rowLimit": 10000
     },
     "inputWidgets": {},
     "nuid": "4e4f2ff4-7fbb-457d-aa4b-cb6f575f0a5d",
     "showTitle": false,
     "title": ""
    }
   },
   "source": [
    "###Tabela Dimensão Pais"
   ]
  },
  {
   "cell_type": "code",
   "execution_count": 0,
   "metadata": {
    "application/vnd.databricks.v1+cell": {
     "cellMetadata": {
      "byteLimit": 2048000,
      "rowLimit": 10000
     },
     "inputWidgets": {},
     "nuid": "64934217-00d8-4358-acdc-8fe67dc15f88",
     "showTitle": false,
     "title": ""
    }
   },
   "outputs": [
    {
     "output_type": "display_data",
     "data": {
      "text/html": [
       "<style scoped>\n",
       "  .table-result-container {\n",
       "    max-height: 300px;\n",
       "    overflow: auto;\n",
       "  }\n",
       "  table, th, td {\n",
       "    border: 1px solid black;\n",
       "    border-collapse: collapse;\n",
       "  }\n",
       "  th, td {\n",
       "    padding: 5px;\n",
       "  }\n",
       "  th {\n",
       "    text-align: left;\n",
       "  }\n",
       "</style><div class='table-result-container'><table class='table-result'><thead style='background-color: white'><tr><th>col_name</th><th>data_type</th><th>comment</th></tr></thead><tbody><tr><td>org</td><td>string</td><td>null</td></tr><tr><td>matResp</td><td>string</td><td>null</td></tr><tr><td>bairro</td><td>string</td><td>null</td></tr><tr><td>cep</td><td>string</td><td>null</td></tr><tr><td>cidade</td><td>string</td><td>null</td></tr></tbody></table></div>"
      ]
     },
     "metadata": {
      "application/vnd.databricks.v1+output": {
       "addedWidgets": {},
       "aggData": [],
       "aggError": "",
       "aggOverflow": false,
       "aggSchema": [],
       "aggSeriesLimitReached": false,
       "aggType": "",
       "arguments": {},
       "columnCustomDisplayInfos": {},
       "data": [
        [
         "org",
         "string",
         null
        ],
        [
         "matResp",
         "string",
         null
        ],
        [
         "bairro",
         "string",
         null
        ],
        [
         "cep",
         "string",
         null
        ],
        [
         "cidade",
         "string",
         null
        ]
       ],
       "datasetInfos": [],
       "dbfsResultPath": null,
       "isJsonSchema": true,
       "metadata": {
        "isDbfsCommandResult": false
       },
       "overflow": false,
       "plotOptions": {
        "customPlotOptions": {},
        "displayType": "table",
        "pivotAggregation": null,
        "pivotColumns": null,
        "xColumns": null,
        "yColumns": null
       },
       "removedWidgets": [],
       "schema": [
        {
         "metadata": "{\"comment\":\"name of the column\"}",
         "name": "col_name",
         "type": "\"string\""
        },
        {
         "metadata": "{\"comment\":\"data type of the column\"}",
         "name": "data_type",
         "type": "\"string\""
        },
        {
         "metadata": "{\"comment\":\"comment of the column\"}",
         "name": "comment",
         "type": "\"string\""
        }
       ],
       "type": "table"
      }
     },
     "output_type": "display_data"
    }
   ],
   "source": [
    "%sql\n",
    "USE level3;\n",
    "DROP TABLE IF EXISTS dim_parents;\n",
    "CREATE TABLE dim_parents AS\n",
    "SELECT * FROM level2.tb_parents_l2;\n",
    "\n",
    "DESCRIBE TABLE dim_parents;"
   ]
  },
  {
   "cell_type": "markdown",
   "metadata": {
    "application/vnd.databricks.v1+cell": {
     "cellMetadata": {
      "byteLimit": 2048000,
      "rowLimit": 10000
     },
     "inputWidgets": {},
     "nuid": "75958efa-be98-4965-a0d6-2e13933d6ef0",
     "showTitle": false,
     "title": ""
    }
   },
   "source": [
    "###Tabela Dimensão Eventos"
   ]
  },
  {
   "cell_type": "code",
   "execution_count": 0,
   "metadata": {
    "application/vnd.databricks.v1+cell": {
     "cellMetadata": {
      "byteLimit": 2048000,
      "rowLimit": 10000
     },
     "inputWidgets": {},
     "nuid": "1baff243-1a37-4083-87b7-55b963a551cd",
     "showTitle": false,
     "title": ""
    }
   },
   "outputs": [
    {
     "output_type": "display_data",
     "data": {
      "text/html": [
       "<style scoped>\n",
       "  .table-result-container {\n",
       "    max-height: 300px;\n",
       "    overflow: auto;\n",
       "  }\n",
       "  table, th, td {\n",
       "    border: 1px solid black;\n",
       "    border-collapse: collapse;\n",
       "  }\n",
       "  th, td {\n",
       "    padding: 5px;\n",
       "  }\n",
       "  th {\n",
       "    text-align: left;\n",
       "  }\n",
       "</style><div class='table-result-container'><table class='table-result'><thead style='background-color: white'><tr><th>col_name</th><th>data_type</th><th>comment</th></tr></thead><tbody><tr><td>org</td><td>string</td><td>null</td></tr><tr><td>mat</td><td>int</td><td>null</td></tr><tr><td>evento</td><td>timestamp</td><td>null</td></tr><tr><td>dtEnt</td><td>date</td><td>null</td></tr><tr><td>hrEnt</td><td>timestamp</td><td>null</td></tr><tr><td>dtSai</td><td>date</td><td>null</td></tr><tr><td>hrSai</td><td>timestamp</td><td>null</td></tr><tr><td>dtCon</td><td>date</td><td>null</td></tr><tr><td>hrCon</td><td>timestamp</td><td>null</td></tr><tr><td>eventoTipo</td><td>int</td><td>null</td></tr></tbody></table></div>"
      ]
     },
     "metadata": {
      "application/vnd.databricks.v1+output": {
       "addedWidgets": {},
       "aggData": [],
       "aggError": "",
       "aggOverflow": false,
       "aggSchema": [],
       "aggSeriesLimitReached": false,
       "aggType": "",
       "arguments": {},
       "columnCustomDisplayInfos": {},
       "data": [
        [
         "org",
         "string",
         null
        ],
        [
         "mat",
         "int",
         null
        ],
        [
         "evento",
         "timestamp",
         null
        ],
        [
         "dtEnt",
         "date",
         null
        ],
        [
         "hrEnt",
         "timestamp",
         null
        ],
        [
         "dtSai",
         "date",
         null
        ],
        [
         "hrSai",
         "timestamp",
         null
        ],
        [
         "dtCon",
         "date",
         null
        ],
        [
         "hrCon",
         "timestamp",
         null
        ],
        [
         "eventoTipo",
         "int",
         null
        ]
       ],
       "datasetInfos": [],
       "dbfsResultPath": null,
       "isJsonSchema": true,
       "metadata": {
        "isDbfsCommandResult": false
       },
       "overflow": false,
       "plotOptions": {
        "customPlotOptions": {},
        "displayType": "table",
        "pivotAggregation": null,
        "pivotColumns": null,
        "xColumns": null,
        "yColumns": null
       },
       "removedWidgets": [],
       "schema": [
        {
         "metadata": "{\"comment\":\"name of the column\"}",
         "name": "col_name",
         "type": "\"string\""
        },
        {
         "metadata": "{\"comment\":\"data type of the column\"}",
         "name": "data_type",
         "type": "\"string\""
        },
        {
         "metadata": "{\"comment\":\"comment of the column\"}",
         "name": "comment",
         "type": "\"string\""
        }
       ],
       "type": "table"
      }
     },
     "output_type": "display_data"
    }
   ],
   "source": [
    "%sql\n",
    "USE level3;\n",
    "DROP TABLE IF EXISTS dim_events;\n",
    "CREATE TABLE dim_events AS\n",
    "SELECT * FROM level2.tb_events_l2;\n",
    "\n",
    "DESCRIBE TABLE dim_events;"
   ]
  }
 ],
 "metadata": {
  "application/vnd.databricks.v1+notebook": {
   "dashboards": [],
   "environmentMetadata": null,
   "language": "python",
   "notebookMetadata": {
    "pythonIndentUnit": 4
   },
   "notebookName": "Cria dimensões (level 3)",
   "widgets": {}
  }
 },
 "nbformat": 4,
 "nbformat_minor": 0
}
